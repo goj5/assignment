{
 "cells": [
  {
   "cell_type": "code",
   "execution_count": null,
   "id": "6f14d914-70c7-4b10-9e14-c921b2358a70",
   "metadata": {},
   "outputs": [],
   "source": [
    "Q1. Explain with an example each when to use a for loop and a while loop.\n"
   ]
  },
  {
   "cell_type": "code",
   "execution_count": null,
   "id": "a3bfeb34-e6d8-4c6a-a5c4-9888855dde11",
   "metadata": {},
   "outputs": [],
   "source": [
    "for loop s used when the no. of iteration is known"
   ]
  },
  {
   "cell_type": "code",
   "execution_count": 1,
   "id": "766be235-2302-423c-a2cf-5f8cb6d28b18",
   "metadata": {},
   "outputs": [
    {
     "name": "stdout",
     "output_type": "stream",
     "text": [
      "sum is 21\n"
     ]
    }
   ],
   "source": [
    "l=[1,2,3,4,5,6]\n",
    "s=0\n",
    "for j in l:\n",
    "    s+=j\n",
    "print(\"sum is\",s)\n",
    "    "
   ]
  },
  {
   "cell_type": "code",
   "execution_count": 2,
   "id": "a4cea3d7-170a-442a-a12b-91bd5b65201b",
   "metadata": {},
   "outputs": [
    {
     "name": "stdout",
     "output_type": "stream",
     "text": [
      "120\n"
     ]
    }
   ],
   "source": [
    "n=5\n",
    "f=1\n",
    "while(n>0):\n",
    "    f=f*n\n",
    "    n-=1\n",
    "print(f)"
   ]
  },
  {
   "cell_type": "code",
   "execution_count": null,
   "id": "a20a3d33-72aa-4164-86b3-2dda5dcf3f35",
   "metadata": {},
   "outputs": [],
   "source": [
    "Q2. Write a python program to print the sum and product of the first 10 natural numbers using for\n",
    "and while loop."
   ]
  },
  {
   "cell_type": "code",
   "execution_count": 2,
   "id": "3f2c0a5c-fb8e-45b3-bc56-9225279e1d50",
   "metadata": {},
   "outputs": [
    {
     "name": "stdout",
     "output_type": "stream",
     "text": [
      "sum : 55\n",
      "product : 3628800\n"
     ]
    }
   ],
   "source": [
    "n=1\n",
    "s=0\n",
    "p=1\n",
    "while(n<=10):\n",
    "    s=s+n\n",
    "    p=p*n\n",
    "    n+=1\n",
    "print(\"sum :\",s)\n",
    "print(\"product :\",p)\n",
    "        "
   ]
  },
  {
   "cell_type": "code",
   "execution_count": null,
   "id": "aea421f7-6ad7-4c24-9f29-ed5fea217331",
   "metadata": {},
   "outputs": [],
   "source": [
    "Q4. Create a list of numbers from 1 to 100. Use for loop and while loop to calculate the cube of each\n",
    "number and if the cube of that number is divisible by 4 or 5 then append that number in a list and print\n",
    "that list."
   ]
  },
  {
   "cell_type": "code",
   "execution_count": 4,
   "id": "607df5d5-8725-4638-82f1-8dd3efd5079d",
   "metadata": {},
   "outputs": [
    {
     "name": "stdout",
     "output_type": "stream",
     "text": [
      "[2, 4, 5, 6, 8, 10, 12, 14, 15, 16, 18, 20, 22, 24, 25, 26, 28, 30, 32, 34, 35, 36, 38, 40, 42, 44, 45, 46, 48, 50, 52, 54, 55, 56, 58, 60, 62, 64, 65, 66, 68, 70, 72, 74, 75, 76, 78, 80, 82, 84, 85, 86, 88, 90, 92, 94, 95, 96, 98, 100]\n"
     ]
    }
   ],
   "source": [
    "l1=[]\n",
    "l2=[]\n",
    "i=1\n",
    "while(i<101):\n",
    "    l1.append(i)\n",
    "    i+=1\n",
    "for j in l1:\n",
    "    if((j*j*j)%4==0 or (j*j*j)%5==0):\n",
    "        l2.append(j)\n",
    "print(l2)"
   ]
  },
  {
   "cell_type": "code",
   "execution_count": null,
   "id": "13b07207-ffab-4f7d-ac93-23b94f0f1bcd",
   "metadata": {},
   "outputs": [],
   "source": [
    "Q5. Write a program to filter count vowels in the below-given string.\n",
    "string = \"I want to become a data scientist\""
   ]
  },
  {
   "cell_type": "code",
   "execution_count": 7,
   "id": "dcb2e6e2-16e6-4fd9-8cbb-aa0e9be8140e",
   "metadata": {},
   "outputs": [
    {
     "name": "stdout",
     "output_type": "stream",
     "text": [
      "no. of vowels are 12\n"
     ]
    }
   ],
   "source": [
    "c=0\n",
    "s= \"I want to become a data scientist\"\n",
    "for j in s:\n",
    "    if(j==\"a\" or j==\"A\" or j==\"e\" or j==\"E\" or j==\"I\" or j==\"i\" or j==\"o\" or j==\"u\" or j==\"O\" or j==\"U\"):\n",
    "        c+=1\n",
    "print(\"no. of vowels are\",c)"
   ]
  },
  {
   "cell_type": "code",
   "execution_count": null,
   "id": "7525aad8-ee8a-4b81-9dad-b9cbf59ca6d2",
   "metadata": {},
   "outputs": [],
   "source": [
    "Q3.The per-unit charges in rupees are as follows: For the first 100 units, the user will be charged Rs. 4.5 per\n",
    "unit, for the next 100 units, the user will be charged Rs. 6 per unit, and for the next 100 units, the user will\n",
    "be charged Rs. 10 per unit, After 300 units and above the user will be charged Rs. 20 per unit.\n",
    "You are required to take the units of electricity consumed in a month from the user as input.\n",
    "Your program must pass this test case: when the unit of electricity consumed by the user in a month is\n",
    "310, the total electricity bill should be 2250."
   ]
  },
  {
   "cell_type": "code",
   "execution_count": 11,
   "id": "629adbcd-112f-484d-8ea6-6bd7c969ee07",
   "metadata": {},
   "outputs": [
    {
     "name": "stdin",
     "output_type": "stream",
     "text": [
      "enter units 310\n"
     ]
    },
    {
     "name": "stdout",
     "output_type": "stream",
     "text": [
      "2250.0\n"
     ]
    }
   ],
   "source": [
    "u=int(input(\"enter units\"))\n",
    "if u<=100:\n",
    "    c=4.5*100\n",
    "elif u<=200:\n",
    "    c=4.5*100+((u-100)*6)\n",
    "elif u<=300:\n",
    "    c=(4.5*100)+(100*6)+((u-200)*10)\n",
    "else:\n",
    "    c=(4.5*100)+(100*6)+(100*10)+((u-300)*20)\n",
    "print(c)\n"
   ]
  },
  {
   "cell_type": "code",
   "execution_count": null,
   "id": "104d7e83-c9e0-47b0-a9d7-453d5d3d7d35",
   "metadata": {},
   "outputs": [],
   "source": []
  }
 ],
 "metadata": {
  "kernelspec": {
   "display_name": "Python 3 (ipykernel)",
   "language": "python",
   "name": "python3"
  },
  "language_info": {
   "codemirror_mode": {
    "name": "ipython",
    "version": 3
   },
   "file_extension": ".py",
   "mimetype": "text/x-python",
   "name": "python",
   "nbconvert_exporter": "python",
   "pygments_lexer": "ipython3",
   "version": "3.10.8"
  }
 },
 "nbformat": 4,
 "nbformat_minor": 5
}
